{
 "cells": [
  {
   "cell_type": "code",
   "execution_count": 1,
   "metadata": {},
   "outputs": [
    {
     "name": "stderr",
     "output_type": "stream",
     "text": [
      "┌ Info: CUDAdrv.jl failed to initialize, GPU functionality unavailable (set JULIA_CUDA_SILENT or JULIA_CUDA_VERBOSE to silence or expand this message)\n",
      "└ @ CUDAdrv /Users/hongbinren/.julia/packages/CUDAdrv/mCr0O/src/CUDAdrv.jl:69\n"
     ]
    }
   ],
   "source": [
    "using GPFlux\n",
    "using Flux\n",
    "using Zygote\n",
    "using Optim\n",
    "using Random\n",
    "using Test\n",
    "\n",
    "Random.seed!(4);"
   ]
  },
  {
   "cell_type": "markdown",
   "metadata": {},
   "source": [
    "# Using Optim.jl"
   ]
  },
  {
   "cell_type": "code",
   "execution_count": 2,
   "metadata": {},
   "outputs": [],
   "source": [
    "_X = 2π*rand(10)\n",
    "X = reshape(_X, 1, :)\n",
    "y = sin.(_X) .+ 0.01*randn(10);"
   ]
  },
  {
   "cell_type": "code",
   "execution_count": 3,
   "metadata": {},
   "outputs": [
    {
     "data": {
      "text/plain": [
       "Params([[0.0], [0.0], [0.0], [-1.0]])"
      ]
     },
     "execution_count": 3,
     "metadata": {},
     "output_type": "execute_result"
    }
   ],
   "source": [
    "zmean = ConstantMean()\n",
    "iso_rbf_kernel = IsoGaussKernel([0.0], [0.0])\n",
    "lnoise = [-1.0]\n",
    "gp = GaussProcess(zmean, iso_rbf_kernel, noise)\n",
    "ps = params(gp)"
   ]
  },
  {
   "cell_type": "code",
   "execution_count": 4,
   "metadata": {},
   "outputs": [
    {
     "name": "stdout",
     "output_type": "stream",
     "text": [
      "loss(θ) = 5.863383437008768\n",
      "calc_g!(zeros(4), θ) = [0.04296329815795294, -2.349784802890104, 2.5063443045497156, 5.579126202589527]\n"
     ]
    },
    {
     "data": {
      "text/plain": [
       "\u001b[32m\u001b[1mTest Passed\u001b[22m\u001b[39m"
      ]
     },
     "execution_count": 4,
     "metadata": {},
     "output_type": "execute_result"
    }
   ],
   "source": [
    "function calc_g!(G, θ)\n",
    "    dispatch!(gp, θ)\n",
    "    ps = params(gp)\n",
    "    gs = gradient(()->negloglik(gp, X, y), ps)\n",
    "\n",
    "    j = 1\n",
    "    for p in ps\n",
    "        G[j] = gs.grads[p][1]\n",
    "        j += 1\n",
    "    end\n",
    "    G\n",
    "end\n",
    "\n",
    "function loss(θ)\n",
    "    dispatch!(gp, θ)\n",
    "    negloglik(gp, X, y)\n",
    "end\n",
    "\n",
    "θ = flatten_params(ps)\n",
    "@show loss(θ)\n",
    "@show calc_g!(zeros(4), θ)\n",
    "@test loss(θ) ≈ negloglik(gp, X, y)"
   ]
  },
  {
   "cell_type": "code",
   "execution_count": 5,
   "metadata": {},
   "outputs": [
    {
     "data": {
      "text/plain": [
       " * Status: success\n",
       "\n",
       " * Candidate solution\n",
       "    Minimizer: [5.04e-01, 7.18e-01, 2.15e-01,  ...]\n",
       "    Minimum:   -1.100177e+01\n",
       "\n",
       " * Found with\n",
       "    Algorithm:     L-BFGS\n",
       "    Initial Point: [0.00e+00, 0.00e+00, 0.00e+00,  ...]\n",
       "\n",
       " * Convergence measures\n",
       "    |x - x'|               = 2.00e-06 ≰ 0.0e+00\n",
       "    |x - x'|/|x'|          = 4.42e-07 ≰ 0.0e+00\n",
       "    |f(x) - f(x')|         = 3.30e-11 ≰ 0.0e+00\n",
       "    |f(x) - f(x')|/|f(x')| = 3.00e-12 ≰ 0.0e+00\n",
       "    |g(x)|                 = 2.19e-07 ≤ 1.0e-05\n",
       "\n",
       " * Work counters\n",
       "    Seconds run:   1  (vs limit Inf)\n",
       "    Iterations:    14\n",
       "    f(x) calls:    44\n",
       "    ∇f(x) calls:   44\n"
      ]
     },
     "execution_count": 5,
     "metadata": {},
     "output_type": "execute_result"
    }
   ],
   "source": [
    "θ₀ = copy(θ)\n",
    "optimize(loss, calc_g!, θ₀, LBFGS(), Optim.Options(g_tol=1e-5,))"
   ]
  },
  {
   "cell_type": "code",
   "execution_count": 6,
   "metadata": {},
   "outputs": [
    {
     "data": {
      "text/plain": [
       "Params([[0.503708393547799], [0.7182901032350837], [0.21460067550188897], [-4.515517275577852]])"
      ]
     },
     "execution_count": 6,
     "metadata": {},
     "output_type": "execute_result"
    }
   ],
   "source": [
    "params(gp)"
   ]
  },
  {
   "cell_type": "code",
   "execution_count": 7,
   "metadata": {},
   "outputs": [],
   "source": [
    "xtest = Array(0.0:0.1:2π)\n",
    "Xtest = reshape(xtest, 1, :)\n",
    "ytest = sin.(xtest)\n",
    "pred_y, pred_σ2 = predict(gp, Xtest, X, y);"
   ]
  },
  {
   "cell_type": "code",
   "execution_count": 8,
   "metadata": {},
   "outputs": [],
   "source": [
    "using PyPlot"
   ]
  },
  {
   "cell_type": "code",
   "execution_count": 9,
   "metadata": {},
   "outputs": [
    {
     "data": {
      "image/png": "[encoded data removed]",
      "text/plain": [
       "Figure(PyObject <Figure size 640x480 with 1 Axes>)"
      ]
     },
     "metadata": {},
     "output_type": "display_data"
    },
    {
     "data": {
      "text/plain": [
       "1-element Array{PyCall.PyObject,1}:\n",
       " PyObject <matplotlib.lines.Line2D object at 0x158a63e10>"
      ]
     },
     "execution_count": 9,
     "metadata": {},
     "output_type": "execute_result"
    }
   ],
   "source": [
    "scatter(_X, y, color=\"k\")\n",
    "plot(xtest, ytest, \"r\")\n",
    "plot(xtest, pred_y, \"b\")"
   ]
  },
  {
   "cell_type": "code",
   "execution_count": null,
   "metadata": {},
   "outputs": [],
   "source": []
  }
 ],
 "metadata": {
  "kernelspec": {
   "display_name": "julia 1.3.0",
   "language": "julia",
   "name": "julia-1.3"
  },
  "language_info": {
   "file_extension": ".jl",
   "mimetype": "application/julia",
   "name": "julia",
   "version": "1.3.0"
  }
 },
 "nbformat": 4,
 "nbformat_minor": 4
}
