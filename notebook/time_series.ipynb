{
 "cells": [
  {
   "cell_type": "code",
   "execution_count": 1,
   "metadata": {},
   "outputs": [
    {
     "name": "stderr",
     "output_type": "stream",
     "text": [
      "┌ Info: CUDAdrv.jl failed to initialize, GPU functionality unavailable (set JULIA_CUDA_SILENT or JULIA_CUDA_VERBOSE to silence or expand this message)\n",
      "└ @ CUDAdrv /Users/hongbinren/.julia/packages/CUDAdrv/mCr0O/src/CUDAdrv.jl:69\n"
     ]
    }
   ],
   "source": [
    "using GPFlux\n",
    "using Flux\n",
    "using Zygote\n",
    "using PyPlot\n",
    "using Random\n",
    "using DelimitedFiles\n",
    "using LinearAlgebra\n",
    "using Test\n",
    "\n",
    "Random.seed!(4);"
   ]
  },
  {
   "cell_type": "code",
   "execution_count": 2,
   "metadata": {},
   "outputs": [],
   "source": [
    "# read CO2 data\n",
    "data = readdlm(\"CO2_data.csv\", ',')\n",
    "year = data[:,1]; co2 = data[:,2];\n",
    "# Split the data into training and testing data\n",
    "xtrain = year[year.<2004]; ytrain = co2[year.<2004];\n",
    "xtest = year[year.>=2004]; ytest = co2[year.>=2004];\n",
    "Xtrain = reshape(xtrain, 1, length(xtrain));\n",
    "Xtest = reshape(xtest, 1, length(xtest));"
   ]
  },
  {
   "cell_type": "code",
   "execution_count": 12,
   "metadata": {},
   "outputs": [
    {
     "name": "stdout",
     "output_type": "stream",
     "text": [
      "isposdef(se_per_kernel(Xtrain)) = true\n",
      "isposdef(kernel(Xtrain)) = true\n"
     ]
    },
    {
     "data": {
      "text/plain": [
       "true"
      ]
     },
     "execution_count": 12,
     "metadata": {},
     "output_type": "execute_result"
    }
   ],
   "source": [
    "# use a composite kernel \n",
    "se1_kernel = IsoGaussKernel([4.0], [4.0])\n",
    "per_kernel = IsoPeriodKernel([0.0], [0.0], [1.0])\n",
    "se2_kernel = IsoGaussKernel([4.0], [0.0])\n",
    "rq_kernel = IsoRQKernel([0.0], [-1.0], [0.0])\n",
    "se3_kernel = IsoGaussKernel([-2.0], [-2.0])\n",
    "\n",
    "se_per_kernel = SE_mul_PeriodKernel((se2_kernel, per_kernel))\n",
    "\n",
    "kernel = AddCompositeKernel((se1_kernel, se_per_kernel, rq_kernel, se3_kernel))\n",
    "\n",
    "# check PSD\n",
    "@show isposdef(se_per_kernel(Xtrain))\n",
    "@show isposdef(kernel(Xtrain))"
   ]
  },
  {
   "cell_type": "code",
   "execution_count": 13,
   "metadata": {},
   "outputs": [
    {
     "data": {
      "text/plain": [
       "IdDict{Any,Any} with 14 entries:\n",
       "  [1.0]  => [17.5788]\n",
       "  [-2.0] => [-346.022]\n",
       "  [0.0]  => [-0.19]\n",
       "  [0.0]  => [17.6995]\n",
       "  [0.0]  => [419.728]\n",
       "  [0.0]  => [-17.0545]\n",
       "  [4.0]  => [-12.7205]\n",
       "  [4.0]  => [-67.4077]\n",
       "  [4.0]  => [0.920669]\n",
       "  [-2.0] => [85.1632]\n",
       "  [0.0]  => [-38.8524]\n",
       "  [-2.0] => [-63.8567]\n",
       "  [-1.0] => [3.7943]\n",
       "  [0.0]  => [25.7066]"
      ]
     },
     "execution_count": 13,
     "metadata": {},
     "output_type": "execute_result"
    }
   ],
   "source": [
    "# fit gp \n",
    "zero_mean = ConstantMean()\n",
    "lnoise = [-2.0]\n",
    "gp = GaussProcess(zero_mean, kernel, lnoise)\n",
    "ps = params(gp)\n",
    "negloglik(gp, Xtrain, ytrain)\n",
    "gs = gradient(()->negloglik(gp, Xtrain, ytrain), ps)\n",
    "gs.grads"
   ]
  },
  {
   "cell_type": "code",
   "execution_count": 14,
   "metadata": {},
   "outputs": [
    {
     "data": {
      "text/plain": [
       "Params([[0.0], [4.0], [4.0], [4.0], [0.0], [0.0], [0.0], [1.0], [0.0], [-1.0], [0.0], [-2.0], [-2.0], [-2.0]])"
      ]
     },
     "execution_count": 14,
     "metadata": {},
     "output_type": "execute_result"
    }
   ],
   "source": [
    "ps"
   ]
  },
  {
   "cell_type": "code",
   "execution_count": 15,
   "metadata": {},
   "outputs": [
    {
     "name": "stdout",
     "output_type": "stream",
     "text": [
      "loss(θ) = 228.43958901752296\n",
      "calc_g!(zero(θ), θ) = [-0.18999983389168662, 0.9206692328560756, -67.40770897133937, -12.720521085503274, 17.699520174958707, 419.7283968214397, -38.852435311460795, 17.578817112330526, -17.05449002236014, 3.7942954689793, 25.706593692095794, 85.16318380072761, -63.85667425929943, -346.02195928758186]\n"
     ]
    },
    {
     "data": {
      "text/plain": [
       "\u001b[32m\u001b[1mTest Passed\u001b[22m\u001b[39m"
      ]
     },
     "execution_count": 15,
     "metadata": {},
     "output_type": "execute_result"
    }
   ],
   "source": [
    "function calc_g!(G, θ)\n",
    "    dispatch!(gp, θ)\n",
    "    ps = params(gp)\n",
    "    gs = gradient(()->negloglik(gp, Xtrain, ytrain), ps)\n",
    "\n",
    "    j = 1\n",
    "    for p in ps\n",
    "        G[j] = gs.grads[p][1]\n",
    "        j += 1\n",
    "    end\n",
    "    G\n",
    "end\n",
    "\n",
    "function loss(θ)\n",
    "    dispatch!(gp, θ)\n",
    "    negloglik(gp, Xtrain, ytrain)\n",
    "end\n",
    "\n",
    "\n",
    "θ = flatten_params(ps)\n",
    "@show loss(θ)\n",
    "@show calc_g!(zero(θ), θ)\n",
    "@test loss(θ) ≈ negloglik(gp, Xtrain, ytrain)"
   ]
  },
  {
   "cell_type": "code",
   "execution_count": 16,
   "metadata": {},
   "outputs": [
    {
     "data": {
      "text/plain": [
       " * Status: success\n",
       "\n",
       " * Candidate solution\n",
       "    Minimizer: [6.31e-03, 4.57e+00, 5.93e+00,  ...]\n",
       "    Minimum:   1.157549e+02\n",
       "\n",
       " * Found with\n",
       "    Algorithm:     L-BFGS\n",
       "    Initial Point: [0.00e+00, 4.00e+00, 4.00e+00,  ...]\n",
       "\n",
       " * Convergence measures\n",
       "    |x - x'|               = 3.66e-03 ≰ 0.0e+00\n",
       "    |x - x'|/|x'|          = 6.17e-04 ≰ 0.0e+00\n",
       "    |f(x) - f(x')|         = 6.29e-05 ≰ 1.0e-05\n",
       "    |f(x) - f(x')|/|f(x')| = 5.43e-07 ≰ 0.0e+00\n",
       "    |g(x)|                 = 1.46e+01 ≰ 1.0e-08\n",
       "\n",
       " * Work counters\n",
       "    Seconds run:   114  (vs limit Inf)\n",
       "    Iterations:    27\n",
       "    f(x) calls:    108\n",
       "    ∇f(x) calls:   108\n"
      ]
     },
     "execution_count": 16,
     "metadata": {},
     "output_type": "execute_result"
    }
   ],
   "source": [
    "using Optim\n",
    "\n",
    "θ₀ = copy(θ)\n",
    "optimize(loss, calc_g!, θ₀, LBFGS(), Optim.Options(f_tol=1e-5,))"
   ]
  },
  {
   "cell_type": "code",
   "execution_count": 17,
   "metadata": {},
   "outputs": [
    {
     "data": {
      "text/plain": [
       "Params([[0.006312176254132247], [4.568896522084496], [5.925541556790953], [4.531410967519122], [-0.09644074918812583], [-0.0004061805296766155], [0.3429162073234375], [0.9037688469565999], [0.29808239160969885], [-1.0120634062594323], [-0.16523874197958133], [-2.1241286483199535], [-1.7811484307953889], [-1.6571341588625172]])"
      ]
     },
     "execution_count": 17,
     "metadata": {},
     "output_type": "execute_result"
    }
   ],
   "source": [
    "ps = params(gp)"
   ]
  },
  {
   "cell_type": "code",
   "execution_count": 18,
   "metadata": {},
   "outputs": [],
   "source": [
    "Year = reshape(year, 1, :)\n",
    "pred_y, pred_σ2 = predict(gp, Year, Xtrain, ytrain);"
   ]
  },
  {
   "cell_type": "code",
   "execution_count": 19,
   "metadata": {},
   "outputs": [
    {
     "data": {
      "image/png": "[encoded data removed]",
      "text/plain": [
       "Figure(PyObject <Figure size 640x480 with 1 Axes>)"
      ]
     },
     "metadata": {},
     "output_type": "display_data"
    },
    {
     "data": {
      "text/plain": [
       "1-element Array{PyCall.PyObject,1}:\n",
       " PyObject <matplotlib.lines.Line2D object at 0x155a4fcc0>"
      ]
     },
     "execution_count": 19,
     "metadata": {},
     "output_type": "execute_result"
    }
   ],
   "source": [
    "scatter(xtrain, ytrain, color=\"k\")\n",
    "scatter(xtest, ytest, color=\"r\")\n",
    "plot(year, pred_y, \"b\")"
   ]
  },
  {
   "cell_type": "code",
   "execution_count": null,
   "metadata": {
    "jupyter": {
     "source_hidden": true
    }
   },
   "outputs": [],
   "source": [
    "# minimize negative loglik\n",
    "\n",
    "using Flux.Optimise: update!\n",
    "\n",
    "optimizer = ADAM(0.001)\n",
    "loss = []\n",
    "for i in 1:900\n",
    "    ll = negloglik(gp, Xtrain, ytrain)\n",
    "    push!(loss, ll)\n",
    "    if i==1 || i%100 == 0\n",
    "        @info \"step=$i, loss=$ll\"\n",
    "    end\n",
    "    gs = gradient(()->negloglik(gp, Xtrain, ytrain), ps)\n",
    "    for p in ps\n",
    "        update!(optimizer, p, gs[p])\n",
    "    end\n",
    "end\n",
    "\n",
    "plot(loss)\n",
    "xscale(\"log\")"
   ]
  }
 ],
 "metadata": {
  "kernelspec": {
   "display_name": "julia 1.3.0",
   "language": "julia",
   "name": "julia-1.3"
  },
  "language_info": {
   "file_extension": ".jl",
   "mimetype": "application/julia",
   "name": "julia",
   "version": "1.3.0"
  }
 },
 "nbformat": 4,
 "nbformat_minor": 4
}
